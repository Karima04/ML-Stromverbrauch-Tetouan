{
 "cells": [
  {
   "cell_type": "markdown",
   "id": "4e5d54fb",
   "metadata": {},
   "source": [
    "<h2 align=\"center\", style=\"font-size:28px\">Vergleich maschineller Lernalgorithmen für die Vorhersage von Stromverbrauch</h2><h3 align=\"center\", style=\"font-size:20px\"><I>Fallbeispiel - Stadt Tétouan in Marokko </I></h3>"
   ]
  },
  {
   "cell_type": "markdown",
   "id": "dfffd55f",
   "metadata": {},
   "source": [
    "<hr style=\"border-width: 3px;border-color: #ff0000;\" >\n",
    "<h3><center>Maschinelle Lernalgorithmen - <I>Part II </I>- </center></h3>\n",
    "<hr style=\"border-width: 3px;border-color: #ff0000;\" >"
   ]
  },
  {
   "cell_type": "markdown",
   "id": "9bd5d35d",
   "metadata": {},
   "source": [
    "<span style=\"font-size:18px\">Einsatz von folgenden Lernalgorithmen:</span>\n",
    "<ul style=\"font-size:18px\">\n",
    "    <li>Lineare Regression</li>\n",
    "    <li>K-Nächste-Nachbarn - KNN</li>\n",
    "    <li>Support Vector Machine - SVR</li>\n",
    "    <li>Entscheidungsmbaum - Decision Tree</li>\n",
    "    <li>Random Forest</li>\n",
    "</ul>"
   ]
  },
  {
   "cell_type": "code",
   "execution_count": 63,
   "id": "79bad98f",
   "metadata": {},
   "outputs": [],
   "source": [
    "# - Import Bibliotheken -\n",
    "\n",
    "# Datenaufbereitung\n",
    "import numpy as np\n",
    "import pandas as pd\n",
    "from sklearn.model_selection import train_test_split\n",
    "from sklearn.preprocessing import MinMaxScaler\n",
    "from sklearn.model_selection import cross_val_score\n",
    "\n",
    "# Modellbildung\n",
    "from sklearn.svm import SVR\n",
    "from sklearn.neighbors import KNeighborsRegressor\n",
    "from sklearn.linear_model import LinearRegression\n",
    "from sklearn.tree import DecisionTreeRegressor\n",
    "from sklearn.ensemble import RandomForestRegressor\n",
    "from sklearn.metrics import mean_squared_error\n",
    "from sklearn.model_selection import GridSearchCV\n",
    "\n",
    "# Visualization\n",
    "import matplotlib.pyplot as plt\n",
    "import seaborn as sns\n",
    "\n",
    "#Warnungen\n",
    "import warnings\n",
    "warnings.filterwarnings('ignore')\n",
    "\n",
    "#Standard-Parameter\n",
    "from pprint import pprint"
   ]
  },
  {
   "cell_type": "code",
   "execution_count": 55,
   "id": "98ac8222",
   "metadata": {},
   "outputs": [
    {
     "data": {
      "text/html": [
       "<div>\n",
       "<style scoped>\n",
       "    .dataframe tbody tr th:only-of-type {\n",
       "        vertical-align: middle;\n",
       "    }\n",
       "\n",
       "    .dataframe tbody tr th {\n",
       "        vertical-align: top;\n",
       "    }\n",
       "\n",
       "    .dataframe thead th {\n",
       "        text-align: right;\n",
       "    }\n",
       "</style>\n",
       "<table border=\"1\" class=\"dataframe\">\n",
       "  <thead>\n",
       "    <tr style=\"text-align: right;\">\n",
       "      <th></th>\n",
       "      <th>Temperature</th>\n",
       "      <th>Humidity</th>\n",
       "      <th>Wind Speed</th>\n",
       "      <th>general diffuse flows</th>\n",
       "      <th>diffuse flows</th>\n",
       "      <th>Quads</th>\n",
       "      <th>Boussafou</th>\n",
       "      <th>Smir</th>\n",
       "    </tr>\n",
       "    <tr>\n",
       "      <th>DateTime</th>\n",
       "      <th></th>\n",
       "      <th></th>\n",
       "      <th></th>\n",
       "      <th></th>\n",
       "      <th></th>\n",
       "      <th></th>\n",
       "      <th></th>\n",
       "      <th></th>\n",
       "    </tr>\n",
       "  </thead>\n",
       "  <tbody>\n",
       "    <tr>\n",
       "      <th>2017-01-01 00:00:00</th>\n",
       "      <td>6.56</td>\n",
       "      <td>73.8</td>\n",
       "      <td>0.08</td>\n",
       "      <td>0.05</td>\n",
       "      <td>0.12</td>\n",
       "      <td>34055.70</td>\n",
       "      <td>16128.88</td>\n",
       "      <td>20240.96</td>\n",
       "    </tr>\n",
       "    <tr>\n",
       "      <th>2017-01-01 00:10:00</th>\n",
       "      <td>6.41</td>\n",
       "      <td>74.5</td>\n",
       "      <td>0.08</td>\n",
       "      <td>0.07</td>\n",
       "      <td>0.08</td>\n",
       "      <td>29814.68</td>\n",
       "      <td>19375.08</td>\n",
       "      <td>20131.08</td>\n",
       "    </tr>\n",
       "    <tr>\n",
       "      <th>2017-01-01 00:20:00</th>\n",
       "      <td>6.31</td>\n",
       "      <td>74.5</td>\n",
       "      <td>0.08</td>\n",
       "      <td>0.06</td>\n",
       "      <td>0.10</td>\n",
       "      <td>29128.10</td>\n",
       "      <td>19006.69</td>\n",
       "      <td>19668.43</td>\n",
       "    </tr>\n",
       "    <tr>\n",
       "      <th>2017-01-01 00:30:00</th>\n",
       "      <td>6.12</td>\n",
       "      <td>75.0</td>\n",
       "      <td>0.08</td>\n",
       "      <td>0.09</td>\n",
       "      <td>0.10</td>\n",
       "      <td>28228.86</td>\n",
       "      <td>18361.09</td>\n",
       "      <td>18899.28</td>\n",
       "    </tr>\n",
       "    <tr>\n",
       "      <th>2017-01-01 00:40:00</th>\n",
       "      <td>5.92</td>\n",
       "      <td>75.7</td>\n",
       "      <td>0.08</td>\n",
       "      <td>0.05</td>\n",
       "      <td>0.08</td>\n",
       "      <td>27335.70</td>\n",
       "      <td>17872.34</td>\n",
       "      <td>18442.41</td>\n",
       "    </tr>\n",
       "  </tbody>\n",
       "</table>\n",
       "</div>"
      ],
      "text/plain": [
       "                     Temperature  Humidity  Wind Speed  general diffuse flows  \\\n",
       "DateTime                                                                        \n",
       "2017-01-01 00:00:00         6.56      73.8        0.08                   0.05   \n",
       "2017-01-01 00:10:00         6.41      74.5        0.08                   0.07   \n",
       "2017-01-01 00:20:00         6.31      74.5        0.08                   0.06   \n",
       "2017-01-01 00:30:00         6.12      75.0        0.08                   0.09   \n",
       "2017-01-01 00:40:00         5.92      75.7        0.08                   0.05   \n",
       "\n",
       "                     diffuse flows     Quads  Boussafou      Smir  \n",
       "DateTime                                                           \n",
       "2017-01-01 00:00:00           0.12  34055.70   16128.88  20240.96  \n",
       "2017-01-01 00:10:00           0.08  29814.68   19375.08  20131.08  \n",
       "2017-01-01 00:20:00           0.10  29128.10   19006.69  19668.43  \n",
       "2017-01-01 00:30:00           0.10  28228.86   18361.09  18899.28  \n",
       "2017-01-01 00:40:00           0.08  27335.70   17872.34  18442.41  "
      ]
     },
     "execution_count": 55,
     "metadata": {},
     "output_type": "execute_result"
    }
   ],
   "source": [
    "#Daten Laden\n",
    "data_path = \"C:\\\\Users\\\\Maxim\\\\Desktop\\\\Abschlussarbeit\\\\Tetuan City power consumption.csv\"\n",
    "df_power = pd.read_csv(data_path,parse_dates=True,index_col=\"DateTime\")\n",
    "df_power.rename({'Zone 1 Power Consumption': 'Quads', 'Zone 2  Power Consumption': 'Boussafou', 'Zone 3  Power Consumption': 'Smir' }, axis=1, inplace=True)\n",
    "df_power.head().round(2)"
   ]
  },
  {
   "cell_type": "code",
   "execution_count": 57,
   "id": "5878702a",
   "metadata": {},
   "outputs": [
    {
     "data": {
      "text/html": [
       "<div>\n",
       "<style scoped>\n",
       "    .dataframe tbody tr th:only-of-type {\n",
       "        vertical-align: middle;\n",
       "    }\n",
       "\n",
       "    .dataframe tbody tr th {\n",
       "        vertical-align: top;\n",
       "    }\n",
       "\n",
       "    .dataframe thead th {\n",
       "        text-align: right;\n",
       "    }\n",
       "</style>\n",
       "<table border=\"1\" class=\"dataframe\">\n",
       "  <thead>\n",
       "    <tr style=\"text-align: right;\">\n",
       "      <th></th>\n",
       "      <th>Temperature</th>\n",
       "      <th>Humidity</th>\n",
       "      <th>Wind Speed</th>\n",
       "      <th>general diffuse flows</th>\n",
       "      <th>diffuse flows</th>\n",
       "      <th>Quads</th>\n",
       "      <th>Boussafou</th>\n",
       "      <th>Smir</th>\n",
       "      <th>hour</th>\n",
       "      <th>weekday</th>\n",
       "      <th>month</th>\n",
       "    </tr>\n",
       "    <tr>\n",
       "      <th>DateTime</th>\n",
       "      <th></th>\n",
       "      <th></th>\n",
       "      <th></th>\n",
       "      <th></th>\n",
       "      <th></th>\n",
       "      <th></th>\n",
       "      <th></th>\n",
       "      <th></th>\n",
       "      <th></th>\n",
       "      <th></th>\n",
       "      <th></th>\n",
       "    </tr>\n",
       "  </thead>\n",
       "  <tbody>\n",
       "    <tr>\n",
       "      <th>2017-01-01 00:00:00</th>\n",
       "      <td>6.56</td>\n",
       "      <td>73.8</td>\n",
       "      <td>0.08</td>\n",
       "      <td>0.05</td>\n",
       "      <td>0.12</td>\n",
       "      <td>34055.70</td>\n",
       "      <td>16128.88</td>\n",
       "      <td>20240.96</td>\n",
       "      <td>0</td>\n",
       "      <td>7</td>\n",
       "      <td>1</td>\n",
       "    </tr>\n",
       "    <tr>\n",
       "      <th>2017-01-01 00:10:00</th>\n",
       "      <td>6.41</td>\n",
       "      <td>74.5</td>\n",
       "      <td>0.08</td>\n",
       "      <td>0.07</td>\n",
       "      <td>0.08</td>\n",
       "      <td>29814.68</td>\n",
       "      <td>19375.08</td>\n",
       "      <td>20131.08</td>\n",
       "      <td>0</td>\n",
       "      <td>7</td>\n",
       "      <td>1</td>\n",
       "    </tr>\n",
       "    <tr>\n",
       "      <th>2017-01-01 00:20:00</th>\n",
       "      <td>6.31</td>\n",
       "      <td>74.5</td>\n",
       "      <td>0.08</td>\n",
       "      <td>0.06</td>\n",
       "      <td>0.10</td>\n",
       "      <td>29128.10</td>\n",
       "      <td>19006.69</td>\n",
       "      <td>19668.43</td>\n",
       "      <td>0</td>\n",
       "      <td>7</td>\n",
       "      <td>1</td>\n",
       "    </tr>\n",
       "    <tr>\n",
       "      <th>2017-01-01 00:30:00</th>\n",
       "      <td>6.12</td>\n",
       "      <td>75.0</td>\n",
       "      <td>0.08</td>\n",
       "      <td>0.09</td>\n",
       "      <td>0.10</td>\n",
       "      <td>28228.86</td>\n",
       "      <td>18361.09</td>\n",
       "      <td>18899.28</td>\n",
       "      <td>0</td>\n",
       "      <td>7</td>\n",
       "      <td>1</td>\n",
       "    </tr>\n",
       "    <tr>\n",
       "      <th>2017-01-01 00:40:00</th>\n",
       "      <td>5.92</td>\n",
       "      <td>75.7</td>\n",
       "      <td>0.08</td>\n",
       "      <td>0.05</td>\n",
       "      <td>0.08</td>\n",
       "      <td>27335.70</td>\n",
       "      <td>17872.34</td>\n",
       "      <td>18442.41</td>\n",
       "      <td>0</td>\n",
       "      <td>7</td>\n",
       "      <td>1</td>\n",
       "    </tr>\n",
       "  </tbody>\n",
       "</table>\n",
       "</div>"
      ],
      "text/plain": [
       "                     Temperature  Humidity  Wind Speed  general diffuse flows  \\\n",
       "DateTime                                                                        \n",
       "2017-01-01 00:00:00         6.56      73.8        0.08                   0.05   \n",
       "2017-01-01 00:10:00         6.41      74.5        0.08                   0.07   \n",
       "2017-01-01 00:20:00         6.31      74.5        0.08                   0.06   \n",
       "2017-01-01 00:30:00         6.12      75.0        0.08                   0.09   \n",
       "2017-01-01 00:40:00         5.92      75.7        0.08                   0.05   \n",
       "\n",
       "                     diffuse flows     Quads  Boussafou      Smir  hour  \\\n",
       "DateTime                                                                  \n",
       "2017-01-01 00:00:00           0.12  34055.70   16128.88  20240.96     0   \n",
       "2017-01-01 00:10:00           0.08  29814.68   19375.08  20131.08     0   \n",
       "2017-01-01 00:20:00           0.10  29128.10   19006.69  19668.43     0   \n",
       "2017-01-01 00:30:00           0.10  28228.86   18361.09  18899.28     0   \n",
       "2017-01-01 00:40:00           0.08  27335.70   17872.34  18442.41     0   \n",
       "\n",
       "                     weekday  month  \n",
       "DateTime                             \n",
       "2017-01-01 00:00:00        7      1  \n",
       "2017-01-01 00:10:00        7      1  \n",
       "2017-01-01 00:20:00        7      1  \n",
       "2017-01-01 00:30:00        7      1  \n",
       "2017-01-01 00:40:00        7      1  "
      ]
     },
     "execution_count": 57,
     "metadata": {},
     "output_type": "execute_result"
    }
   ],
   "source": [
    "#Datum parsen \n",
    "for i in range(len(df_power)):\n",
    "    position = df_power.index[i]\n",
    "    hour = position.hour\n",
    "    weekday = position.weekday()\n",
    "    month = position.month\n",
    "    df_power.loc[position, 'hour'] = hour\n",
    "    df_power.loc[position, 'weekday'] = weekday+1\n",
    "    df_power.loc[position, 'month'] = month\n",
    "    \n",
    "df_power['hour'] = df_power['hour'].apply(np.int64)\n",
    "df_power['weekday'] = df_power['weekday'].apply(np.int64)\n",
    "df_power['month'] = df_power['month'].apply(np.int64)\n",
    "\n",
    "df_power.head().round(2)"
   ]
  },
  {
   "cell_type": "markdown",
   "id": "4821683a",
   "metadata": {},
   "source": [
    "<h4>Modellbildung mit den Default-Hyperparametern</h4>"
   ]
  },
  {
   "cell_type": "code",
   "execution_count": 131,
   "id": "4116d8e3",
   "metadata": {},
   "outputs": [
    {
     "data": {
      "text/plain": [
       "(8736, 11)"
      ]
     },
     "execution_count": 131,
     "metadata": {},
     "output_type": "execute_result"
    }
   ],
   "source": [
    "#Um Rechenaufwand zu reduzieren: Downsamplen von der 10-Minuten in eine stündliche Frequenz , \n",
    "df_power_hour = df_power.resample('h').mean() \n",
    "df_power_hour.shape"
   ]
  },
  {
   "cell_type": "code",
   "execution_count": 144,
   "id": "b79340d3",
   "metadata": {
    "scrolled": true
   },
   "outputs": [],
   "source": [
    "def modelliere(df,y):\n",
    "\n",
    "    #Modelle definieren mit Standard-Hyperparametern\n",
    "    knn  = KNeighborsRegressor()\n",
    "    dt   = DecisionTreeRegressor() \n",
    "    lreg = LinearRegression()\n",
    "    svr  = SVR()\n",
    "    rdf  = RandomForestRegressor()\n",
    "\n",
    "    regs =[]\n",
    "    res_new_train=[]\n",
    "    mses_new_test=[]\n",
    "    res_new_test=[]\n",
    "    \n",
    "    #Datensatz in Trainings-und Testdaten aufteilen\n",
    "    X = df.drop(['Humidity','Quads','Boussafou','Smir'], axis = 1)\n",
    "    y = df[y]\n",
    "    x_train, x_test, y_train, y_test = train_test_split(X,y, test_size = 0.3, random_state = 42)\n",
    "    \n",
    "    #Trainingsdaten normalisieren\n",
    "    mmscaler = MinMaxScaler()\n",
    "    x_train_norm = mmscaler.fit_transform(x_train)\n",
    "    x_test_norm = mmscaler.transform(x_test)\n",
    "\n",
    "    for reg in (knn, dt, lreg, svr, rdf):\n",
    "        reg.fit(x_train_norm, y_train)\n",
    "        y_pred = reg.predict(x_test_norm)\n",
    "\n",
    "        #Modellleistung: Trainingsdaten\n",
    "        re_train = round(reg.score(x_train_norm, y_train),4)*100\n",
    "        #Modellleistung: Testdaten\n",
    "        mse_test = round(mean_squared_error(y_test,y_pred),2)\n",
    "        re_test = round(reg.score(x_test_norm, y_test),4)*100\n",
    "\n",
    "        regs.append(reg.__class__.__name__)\n",
    "        res_new_train.append(re_train)\n",
    "        mses_new_test.append(mse_test)\n",
    "        res_new_test.append(re_test)\n",
    "        \n",
    "        if reg == lreg:\n",
    "            #Linear Regression modell interpretation\n",
    "            coefs = pd.DataFrame(lreg.coef_, columns=['Coeff.'], index=x_train.columns)\n",
    "            coefs.plot(kind='barh', figsize=(9, 7))\n",
    "            plt.axvline(x=0, color='.5')\n",
    "            plt.axvline(x=0, color='.5')\n",
    "            plt.subplots_adjust(left=.3)\n",
    "            plt.title('Modell: lineare Regression')\n",
    "            plt.show()\n",
    "            \n",
    "        elif reg == rdf:\n",
    "            #Random Forest Regression modell interpretation\n",
    "            importances = pd.Series(data=rdf.feature_importances_,index= x_train.columns)\n",
    "            # Sort importances\n",
    "            importances_sorted = importances.sort_values()\n",
    "            plt.figure(figsize=(7,6))\n",
    "            # Draw a horizontal barplot of importances_sorted\n",
    "            importances_sorted.plot(kind='barh', color='lightblue')\n",
    "            plt.title('Modell: Random Forest')\n",
    "            plt.show()\n",
    "\n",
    "    res_res_train=[i for i, j in enumerate(res_new_train) if j == max(res_new_train) ]\n",
    "    res_mses_test=[i for i, j in enumerate(mses_new_test) if j == min(mses_new_test) ]\n",
    "    res_res_test=[i for i, j in enumerate(res_new_test) if j == max(res_new_test) ]\n",
    "     \n",
    "    if regs[res_mses_test[0]] != regs[res_res_test[0]]:\n",
    "        print (f'Das Modell mit dem niedrigen MSE ist \\033[1m{regs[res_mses_test[0]]}\\033[0m und \\n das Modell mit dem höchsten R² ist \\033[1m{regs[res_res_test[0]]}\\033[0m\\n') \n",
    "    else:\n",
    "        print (f'Das Modell mit dem niedrigen\\033[1m MSE: {min(mses_new_test):.2f}\\033[0m und dem höchsten \\033[1mR²: {max(res_new_test):.2f}%\\033[0m ist \\033[1m{regs[res_res_test[0]]}\\033[0m\\n') \n",
    "    \n",
    "    #Result as Dataframe\n",
    "    dic = {'Modell':regs,'R²% Train':res_new_train,'MSE':mses_new_test,'R²% Test':res_new_test}\n",
    "    df = pd.DataFrame(dic)\n",
    "    df.index = df.index + 1\n",
    "    return df"
   ]
  },
  {
   "cell_type": "code",
   "execution_count": 146,
   "id": "83551c7c",
   "metadata": {},
   "outputs": [
    {
     "name": "stdout",
     "output_type": "stream",
     "text": [
      "*****\n",
      "\u001b[1mMean square Error(MSE)\u001b[0m: Wie weit weichen die Daten von der Vorhersage ab?\n",
      "\u001b[1mBestimmtheitsmaß R²\u001b[0m: Wieviel Streuung kann das Modell erklären?\n",
      "*****\n",
      "\n",
      "Für die Region \u001b[1mQuads\u001b[0m:\n",
      "--- Features Importance ---\n"
     ]
    },
    {
     "data": {
      "image/png": "[encoded data removed]",
      "text/plain": [
       "<Figure size 648x504 with 1 Axes>"
      ]
     },
     "metadata": {
      "needs_background": "light"
     },
     "output_type": "display_data"
    },
    {
     "data": {
      "image/png": "[encoded data removed]",
      "text/plain": [
       "<Figure size 504x432 with 1 Axes>"
      ]
     },
     "metadata": {
      "needs_background": "light"
     },
     "output_type": "display_data"
    },
    {
     "name": "stdout",
     "output_type": "stream",
     "text": [
      "Das Modell mit dem niedrigen\u001b[1m MSE: 2439735.08\u001b[0m und dem höchsten \u001b[1mR²: 94.95%\u001b[0m ist \u001b[1mRandomForestRegressor\u001b[0m\n",
      "\n",
      "*****\n",
      "Für die Region \u001b[1mSmir\u001b[0m:\n",
      "--- Features Importance ---\n"
     ]
    },
    {
     "data": {
      "image/png": "[encoded data removed]",
      "text/plain": [
       "<Figure size 648x504 with 1 Axes>"
      ]
     },
     "metadata": {
      "needs_background": "light"
     },
     "output_type": "display_data"
    },
    {
     "data": {
      "image/png": "[encoded data removed]",
      "text/plain": [
       "<Figure size 504x432 with 1 Axes>"
      ]
     },
     "metadata": {
      "needs_background": "light"
     },
     "output_type": "display_data"
    },
    {
     "name": "stdout",
     "output_type": "stream",
     "text": [
      "Das Modell mit dem niedrigen\u001b[1m MSE: 1637432.61\u001b[0m und dem höchsten \u001b[1mR²: 96.15%\u001b[0m ist \u001b[1mRandomForestRegressor\u001b[0m\n",
      "\n",
      "*****\n",
      "Für die Region \u001b[1mBoussafou\u001b[0m:\n",
      "--- Features Importance ---\n"
     ]
    },
    {
     "data": {
      "image/png": "[encoded data removed]",
      "text/plain": [
       "<Figure size 648x504 with 1 Axes>"
      ]
     },
     "metadata": {
      "needs_background": "light"
     },
     "output_type": "display_data"
    },
    {
     "data": {
      "image/png": "[encoded data removed]",
      "text/plain": [
       "<Figure size 504x432 with 1 Axes>"
      ]
     },
     "metadata": {
      "needs_background": "light"
     },
     "output_type": "display_data"
    },
    {
     "name": "stdout",
     "output_type": "stream",
     "text": [
      "Das Modell mit dem niedrigen\u001b[1m MSE: 1359847.89\u001b[0m und dem höchsten \u001b[1mR²: 94.78%\u001b[0m ist \u001b[1mRandomForestRegressor\u001b[0m\n",
      "\n"
     ]
    }
   ],
   "source": [
    "#Bewertungsmetriken\n",
    "print('*****\\n\\033[1mMean square Error(MSE)\\033[0m: Wie weit weichen die Daten von der Vorhersage ab?')\n",
    "print('\\033[1mBestimmtheitsmaß R²\\033[0m: Wieviel Streuung kann das Modell erklären?\\n*****\\n')\n",
    "\n",
    "#Modellbildung\n",
    "print(f'Für die Region \\033[1mQuads\\033[0m:\\n--- Features Importance ---')\n",
    "Quads = modelliere(df_power_hour,'Quads')\n",
    "print(f'*****\\nFür die Region \\033[1mSmir\\033[0m:\\n--- Features Importance ---')\n",
    "Smir = modelliere(df_power_hour,'Smir')\n",
    "print(f'*****\\nFür die Region \\033[1mBoussafou\\033[0m:\\n--- Features Importance ---')\n",
    "Boussafou= modelliere(df_power_hour,'Boussafou')"
   ]
  },
  {
   "cell_type": "code",
   "execution_count": 140,
   "id": "026795eb",
   "metadata": {},
   "outputs": [
    {
     "data": {
      "text/html": [
       "<style  type=\"text/css\" >\n",
       "#T_67ff5_row0_col1{\n",
       "            background-color:  #108810;\n",
       "            color:  #f1f1f1;\n",
       "        }#T_67ff5_row0_col2{\n",
       "            background-color:  #ddecdd;\n",
       "            color:  #000000;\n",
       "        }#T_67ff5_row0_col3{\n",
       "            background-color:  #0e870e;\n",
       "            color:  #f1f1f1;\n",
       "        }#T_67ff5_row1_col1,#T_67ff5_row3_col2,#T_67ff5_row4_col3{\n",
       "            background-color:  #008000;\n",
       "            color:  #f1f1f1;\n",
       "            background-color:  blue;\n",
       "        }#T_67ff5_row1_col2{\n",
       "            background-color:  #deedde;\n",
       "            color:  #000000;\n",
       "        }#T_67ff5_row1_col3{\n",
       "            background-color:  #0d860d;\n",
       "            color:  #f1f1f1;\n",
       "        }#T_67ff5_row2_col1{\n",
       "            background-color:  #56aa56;\n",
       "            color:  #000000;\n",
       "        }#T_67ff5_row2_col2{\n",
       "            background-color:  #9acb9a;\n",
       "            color:  #000000;\n",
       "        }#T_67ff5_row2_col3{\n",
       "            background-color:  #51a851;\n",
       "            color:  #000000;\n",
       "        }#T_67ff5_row3_col1,#T_67ff5_row3_col3,#T_67ff5_row4_col2{\n",
       "            background-color:  #ebf3eb;\n",
       "            color:  #000000;\n",
       "            background-color:  lightblue;\n",
       "        }#T_67ff5_row4_col1{\n",
       "            background-color:  #018001;\n",
       "            color:  #f1f1f1;\n",
       "        }</style><table id=\"T_67ff5_\" style='display:inline'><caption>Quads: Modellleistung mit Default-Hyperparametern</caption><thead>    <tr>        <th class=\"blank level0\" ></th>        <th class=\"col_heading level0 col0\" >Modell</th>        <th class=\"col_heading level0 col1\" >R²% Train</th>        <th class=\"col_heading level0 col2\" >MSE</th>        <th class=\"col_heading level0 col3\" >R²% Test</th>    </tr></thead><tbody>\n",
       "                <tr>\n",
       "                        <th id=\"T_67ff5_level0_row0\" class=\"row_heading level0 row0\" >1</th>\n",
       "                        <td id=\"T_67ff5_row0_col0\" class=\"data row0 col0\" >KNeighborsRegressor</td>\n",
       "                        <td id=\"T_67ff5_row0_col1\" class=\"data row0 col1\" >93.72</td>\n",
       "                        <td id=\"T_67ff5_row0_col2\" class=\"data row0 col2\" >5002572.20</td>\n",
       "                        <td id=\"T_67ff5_row0_col3\" class=\"data row0 col3\" >89.64</td>\n",
       "            </tr>\n",
       "            <tr>\n",
       "                        <th id=\"T_67ff5_level0_row1\" class=\"row_heading level0 row1\" >2</th>\n",
       "                        <td id=\"T_67ff5_row1_col0\" class=\"data row1 col0\" >DecisionTreeRegressor</td>\n",
       "                        <td id=\"T_67ff5_row1_col1\" class=\"data row1 col1\" >100.00</td>\n",
       "                        <td id=\"T_67ff5_row1_col2\" class=\"data row1 col2\" >4815545.69</td>\n",
       "                        <td id=\"T_67ff5_row1_col3\" class=\"data row1 col3\" >90.02</td>\n",
       "            </tr>\n",
       "            <tr>\n",
       "                        <th id=\"T_67ff5_level0_row2\" class=\"row_heading level0 row2\" >3</th>\n",
       "                        <td id=\"T_67ff5_row2_col0\" class=\"data row2 col0\" >LinearRegression</td>\n",
       "                        <td id=\"T_67ff5_row2_col1\" class=\"data row2 col1\" >65.84</td>\n",
       "                        <td id=\"T_67ff5_row2_col2\" class=\"data row2 col2\" >17090061.12</td>\n",
       "                        <td id=\"T_67ff5_row2_col3\" class=\"data row2 col3\" >64.59</td>\n",
       "            </tr>\n",
       "            <tr>\n",
       "                        <th id=\"T_67ff5_level0_row3\" class=\"row_heading level0 row3\" >4</th>\n",
       "                        <td id=\"T_67ff5_row3_col0\" class=\"data row3 col0\" >SVR</td>\n",
       "                        <td id=\"T_67ff5_row3_col1\" class=\"data row3 col1\" >6.81</td>\n",
       "                        <td id=\"T_67ff5_row3_col2\" class=\"data row3 col2\" >44939633.63</td>\n",
       "                        <td id=\"T_67ff5_row3_col3\" class=\"data row3 col3\" >6.89</td>\n",
       "            </tr>\n",
       "            <tr>\n",
       "                        <th id=\"T_67ff5_level0_row4\" class=\"row_heading level0 row4\" >5</th>\n",
       "                        <td id=\"T_67ff5_row4_col0\" class=\"data row4 col0\" >RandomForestRegressor</td>\n",
       "                        <td id=\"T_67ff5_row4_col1\" class=\"data row4 col1\" >99.31</td>\n",
       "                        <td id=\"T_67ff5_row4_col2\" class=\"data row4 col2\" >2426440.28</td>\n",
       "                        <td id=\"T_67ff5_row4_col3\" class=\"data row4 col3\" >94.97</td>\n",
       "            </tr>\n",
       "    </tbody></table>"
      ],
      "text/plain": [
       "<pandas.io.formats.style.Styler at 0x1ec3c985ca0>"
      ]
     },
     "execution_count": 140,
     "metadata": {},
     "output_type": "execute_result"
    }
   ],
   "source": [
    "#Quads: Modellleistung als Heatmap \n",
    "cm = sns.light_palette(\"green\", as_cmap=True)\n",
    "Quads.style.background_gradient(cmap=cm).set_precision(2).highlight_null('red').highlight_min(axis=0, color='lightblue').highlight_max(axis=0, color='blue').set_table_attributes(\"style='display:inline'\").set_caption('Quads: Modellleistung mit Default-Hyperparametern')"
   ]
  },
  {
   "cell_type": "code",
   "execution_count": 141,
   "id": "a57efe3b",
   "metadata": {},
   "outputs": [
    {
     "data": {
      "text/html": [
       "<style  type=\"text/css\" >\n",
       "#T_a2dcc_row0_col1{\n",
       "            background-color:  #0f870f;\n",
       "            color:  #f1f1f1;\n",
       "        }#T_a2dcc_row0_col2{\n",
       "            background-color:  #d9ead9;\n",
       "            color:  #000000;\n",
       "        }#T_a2dcc_row0_col3{\n",
       "            background-color:  #118911;\n",
       "            color:  #f1f1f1;\n",
       "        }#T_a2dcc_row1_col1,#T_a2dcc_row3_col2,#T_a2dcc_row4_col3{\n",
       "            background-color:  #008000;\n",
       "            color:  #f1f1f1;\n",
       "            background-color:  blue;\n",
       "        }#T_a2dcc_row1_col2{\n",
       "            background-color:  #e2efe2;\n",
       "            color:  #000000;\n",
       "        }#T_a2dcc_row1_col3{\n",
       "            background-color:  #088408;\n",
       "            color:  #f1f1f1;\n",
       "        }#T_a2dcc_row2_col1{\n",
       "            background-color:  #5bad5b;\n",
       "            color:  #000000;\n",
       "        }#T_a2dcc_row2_col2{\n",
       "            background-color:  #94c994;\n",
       "            color:  #000000;\n",
       "        }#T_a2dcc_row2_col3{\n",
       "            background-color:  #56aa56;\n",
       "            color:  #000000;\n",
       "        }#T_a2dcc_row3_col1,#T_a2dcc_row3_col3,#T_a2dcc_row4_col2{\n",
       "            background-color:  #ebf3eb;\n",
       "            color:  #000000;\n",
       "            background-color:  lightblue;\n",
       "        }#T_a2dcc_row4_col1{\n",
       "            background-color:  #018001;\n",
       "            color:  #f1f1f1;\n",
       "        }</style><table id=\"T_a2dcc_\" style='display:inline'><caption>Smir: Modellleistung mit Default-Hyperparametern</caption><thead>    <tr>        <th class=\"blank level0\" ></th>        <th class=\"col_heading level0 col0\" >Modell</th>        <th class=\"col_heading level0 col1\" >R²% Train</th>        <th class=\"col_heading level0 col2\" >MSE</th>        <th class=\"col_heading level0 col3\" >R²% Test</th>    </tr></thead><tbody>\n",
       "                <tr>\n",
       "                        <th id=\"T_a2dcc_level0_row0\" class=\"row_heading level0 row0\" >1</th>\n",
       "                        <td id=\"T_a2dcc_row0_col0\" class=\"data row0 col0\" >KNeighborsRegressor</td>\n",
       "                        <td id=\"T_a2dcc_row0_col1\" class=\"data row0 col1\" >93.44</td>\n",
       "                        <td id=\"T_a2dcc_row0_col2\" class=\"data row0 col2\" >4746561.27</td>\n",
       "                        <td id=\"T_a2dcc_row0_col3\" class=\"data row0 col3\" >88.84</td>\n",
       "            </tr>\n",
       "            <tr>\n",
       "                        <th id=\"T_a2dcc_level0_row1\" class=\"row_heading level0 row1\" >2</th>\n",
       "                        <td id=\"T_a2dcc_row1_col0\" class=\"data row1 col0\" >DecisionTreeRegressor</td>\n",
       "                        <td id=\"T_a2dcc_row1_col1\" class=\"data row1 col1\" >100.00</td>\n",
       "                        <td id=\"T_a2dcc_row1_col2\" class=\"data row1 col2\" >3156490.04</td>\n",
       "                        <td id=\"T_a2dcc_row1_col3\" class=\"data row1 col3\" >92.58</td>\n",
       "            </tr>\n",
       "            <tr>\n",
       "                        <th id=\"T_a2dcc_level0_row2\" class=\"row_heading level0 row2\" >3</th>\n",
       "                        <td id=\"T_a2dcc_row2_col0\" class=\"data row2 col0\" >LinearRegression</td>\n",
       "                        <td id=\"T_a2dcc_row2_col1\" class=\"data row2 col1\" >61.14</td>\n",
       "                        <td id=\"T_a2dcc_row2_col2\" class=\"data row2 col2\" >16847665.18</td>\n",
       "                        <td id=\"T_a2dcc_row2_col3\" class=\"data row2 col3\" >60.38</td>\n",
       "            </tr>\n",
       "            <tr>\n",
       "                        <th id=\"T_a2dcc_level0_row3\" class=\"row_heading level0 row3\" >4</th>\n",
       "                        <td id=\"T_a2dcc_row3_col0\" class=\"data row3 col0\" >SVR</td>\n",
       "                        <td id=\"T_a2dcc_row3_col1\" class=\"data row3 col1\" >0.30</td>\n",
       "                        <td id=\"T_a2dcc_row3_col2\" class=\"data row3 col2\" >42943474.85</td>\n",
       "                        <td id=\"T_a2dcc_row3_col3\" class=\"data row3 col3\" >-0.98</td>\n",
       "            </tr>\n",
       "            <tr>\n",
       "                        <th id=\"T_a2dcc_level0_row4\" class=\"row_heading level0 row4\" >5</th>\n",
       "                        <td id=\"T_a2dcc_row4_col0\" class=\"data row4 col0\" >RandomForestRegressor</td>\n",
       "                        <td id=\"T_a2dcc_row4_col1\" class=\"data row4 col1\" >99.49</td>\n",
       "                        <td id=\"T_a2dcc_row4_col2\" class=\"data row4 col2\" >1672920.78</td>\n",
       "                        <td id=\"T_a2dcc_row4_col3\" class=\"data row4 col3\" >96.07</td>\n",
       "            </tr>\n",
       "    </tbody></table>"
      ],
      "text/plain": [
       "<pandas.io.formats.style.Styler at 0x1ec3c8f5eb0>"
      ]
     },
     "execution_count": 141,
     "metadata": {},
     "output_type": "execute_result"
    }
   ],
   "source": [
    "#Smir: Modellleistung als Heatmap \n",
    "Smir.style.background_gradient(cmap=cm).set_precision(2).highlight_null('red').highlight_min(axis=0, color='lightblue').highlight_max(axis=0, color='blue').set_table_attributes(\"style='display:inline'\").set_caption('Smir: Modellleistung mit Default-Hyperparametern')"
   ]
  },
  {
   "cell_type": "code",
   "execution_count": 142,
   "id": "8e468327",
   "metadata": {},
   "outputs": [
    {
     "data": {
      "text/html": [
       "<style  type=\"text/css\" >\n",
       "#T_3308d_row0_col1{\n",
       "            background-color:  #138913;\n",
       "            color:  #f1f1f1;\n",
       "        }#T_3308d_row0_col2{\n",
       "            background-color:  #d8ead8;\n",
       "            color:  #000000;\n",
       "        }#T_3308d_row0_col3{\n",
       "            background-color:  #128912;\n",
       "            color:  #f1f1f1;\n",
       "        }#T_3308d_row1_col1,#T_3308d_row3_col2,#T_3308d_row4_col3{\n",
       "            background-color:  #008000;\n",
       "            color:  #f1f1f1;\n",
       "            background-color:  blue;\n",
       "        }#T_3308d_row1_col2{\n",
       "            background-color:  #dfeddf;\n",
       "            color:  #000000;\n",
       "        }#T_3308d_row1_col3{\n",
       "            background-color:  #0c860c;\n",
       "            color:  #f1f1f1;\n",
       "        }#T_3308d_row2_col1{\n",
       "            background-color:  #66b266;\n",
       "            color:  #000000;\n",
       "        }#T_3308d_row2_col2{\n",
       "            background-color:  #89c389;\n",
       "            color:  #000000;\n",
       "        }#T_3308d_row2_col3{\n",
       "            background-color:  #61b061;\n",
       "            color:  #000000;\n",
       "        }#T_3308d_row3_col1,#T_3308d_row3_col3,#T_3308d_row4_col2{\n",
       "            background-color:  #ebf3eb;\n",
       "            color:  #000000;\n",
       "            background-color:  lightblue;\n",
       "        }#T_3308d_row4_col1{\n",
       "            background-color:  #028102;\n",
       "            color:  #f1f1f1;\n",
       "        }</style><table id=\"T_3308d_\" style='display:inline'><caption>Boussafou: Modellleistung mit Default-Hyperparametern</caption><thead>    <tr>        <th class=\"blank level0\" ></th>        <th class=\"col_heading level0 col0\" >Modell</th>        <th class=\"col_heading level0 col1\" >R²% Train</th>        <th class=\"col_heading level0 col2\" >MSE</th>        <th class=\"col_heading level0 col3\" >R²% Test</th>    </tr></thead><tbody>\n",
       "                <tr>\n",
       "                        <th id=\"T_3308d_level0_row0\" class=\"row_heading level0 row0\" >1</th>\n",
       "                        <td id=\"T_3308d_row0_col0\" class=\"data row0 col0\" >KNeighborsRegressor</td>\n",
       "                        <td id=\"T_3308d_row0_col1\" class=\"data row0 col1\" >92.49</td>\n",
       "                        <td id=\"T_3308d_row0_col2\" class=\"data row0 col2\" >3179473.51</td>\n",
       "                        <td id=\"T_3308d_row0_col3\" class=\"data row0 col3\" >87.80</td>\n",
       "            </tr>\n",
       "            <tr>\n",
       "                        <th id=\"T_3308d_level0_row1\" class=\"row_heading level0 row1\" >2</th>\n",
       "                        <td id=\"T_3308d_row1_col0\" class=\"data row1 col0\" >DecisionTreeRegressor</td>\n",
       "                        <td id=\"T_3308d_row1_col1\" class=\"data row1 col1\" >100.00</td>\n",
       "                        <td id=\"T_3308d_row1_col2\" class=\"data row1 col2\" >2581019.10</td>\n",
       "                        <td id=\"T_3308d_row1_col3\" class=\"data row1 col3\" >90.09</td>\n",
       "            </tr>\n",
       "            <tr>\n",
       "                        <th id=\"T_3308d_level0_row2\" class=\"row_heading level0 row2\" >3</th>\n",
       "                        <td id=\"T_3308d_row2_col0\" class=\"data row2 col0\" >LinearRegression</td>\n",
       "                        <td id=\"T_3308d_row2_col1\" class=\"data row2 col1\" >60.10</td>\n",
       "                        <td id=\"T_3308d_row2_col2\" class=\"data row2 col2\" >10723299.24</td>\n",
       "                        <td id=\"T_3308d_row2_col3\" class=\"data row2 col3\" >58.84</td>\n",
       "            </tr>\n",
       "            <tr>\n",
       "                        <th id=\"T_3308d_level0_row3\" class=\"row_heading level0 row3\" >4</th>\n",
       "                        <td id=\"T_3308d_row3_col0\" class=\"data row3 col0\" >SVR</td>\n",
       "                        <td id=\"T_3308d_row3_col1\" class=\"data row3 col1\" >8.51</td>\n",
       "                        <td id=\"T_3308d_row3_col2\" class=\"data row3 col2\" >23864720.79</td>\n",
       "                        <td id=\"T_3308d_row3_col3\" class=\"data row3 col3\" >8.40</td>\n",
       "            </tr>\n",
       "            <tr>\n",
       "                        <th id=\"T_3308d_level0_row4\" class=\"row_heading level0 row4\" >5</th>\n",
       "                        <td id=\"T_3308d_row4_col0\" class=\"data row4 col0\" >RandomForestRegressor</td>\n",
       "                        <td id=\"T_3308d_row4_col1\" class=\"data row4 col1\" >99.21</td>\n",
       "                        <td id=\"T_3308d_row4_col2\" class=\"data row4 col2\" >1369926.73</td>\n",
       "                        <td id=\"T_3308d_row4_col3\" class=\"data row4 col3\" >94.74</td>\n",
       "            </tr>\n",
       "    </tbody></table>"
      ],
      "text/plain": [
       "<pandas.io.formats.style.Styler at 0x1ec3c8c4fd0>"
      ]
     },
     "execution_count": 142,
     "metadata": {},
     "output_type": "execute_result"
    }
   ],
   "source": [
    "#Boussafou: Modellleistung als Heatmap \n",
    "Boussafou.style.background_gradient(cmap=cm).set_precision(2).highlight_null('red').highlight_min(axis=0, color='lightblue').highlight_max(axis=0, color='blue').set_table_attributes(\"style='display:inline'\").set_caption('Boussafou: Modellleistung mit Default-Hyperparametern')"
   ]
  },
  {
   "cell_type": "markdown",
   "id": "d622fc9d",
   "metadata": {},
   "source": [
    "<h4>Modellleistung des SVR-Modells durch Kreuzvalidierung und Rastersuche verbessern</h4>"
   ]
  },
  {
   "cell_type": "markdown",
   "id": "ec5a08d0",
   "metadata": {},
   "source": [
    "<h5>1. Region: Quads</h5>"
   ]
  },
  {
   "cell_type": "code",
   "execution_count": 123,
   "id": "e25be255",
   "metadata": {},
   "outputs": [
    {
     "name": "stdout",
     "output_type": "stream",
     "text": [
      "Fitting 5 folds for each of 320 candidates, totalling 1600 fits\n"
     ]
    },
    {
     "data": {
      "text/plain": [
       "GridSearchCV(cv=5, estimator=SVR(), n_jobs=-1,\n",
       "             param_grid={'C': [0.1, 1, 100, 1000],\n",
       "                         'epsilon': [0.1, 0.2, 0.5, 0.3],\n",
       "                         'gamma': [1, 0.1, 0.01, 0.001, 0.0001],\n",
       "                         'kernel': ['rbf', 'poly', 'sigmoid', 'linear']},\n",
       "             verbose=2)"
      ]
     },
     "execution_count": 123,
     "metadata": {},
     "output_type": "execute_result"
    }
   ],
   "source": [
    "# Support Vector Regressor\n",
    "param_grid = {'C':[0.1,1,100,1000],\n",
    "              'kernel':['rbf','poly','sigmoid','linear'],\n",
    "              'epsilon':[0.1,0.2,0.5,0.3],\n",
    "              'gamma': [1, 0.1, 0.01, 0.001, 0.0001]}\n",
    "svr = SVR()\n",
    "grid_search=GridSearchCV(estimator = svr, param_grid = param_grid, cv = 5, n_jobs = -1, verbose = 2)\n",
    "\n",
    "#Datensatz in Trainings-und Testdaten aufteilen\n",
    "X = df_power_hour.drop(['Humidity','Quads','Boussafou','Smir'], axis = 1)\n",
    "y = df_power_hour['Quads']\n",
    "x_train, x_test, y_train, y_test = train_test_split(X,y, test_size = 0.3, random_state = 42)\n",
    "    \n",
    "#Trainingsdaten normalisieren\n",
    "mmscaler = MinMaxScaler()\n",
    "x_train_norm = mmscaler.fit_transform(x_train)\n",
    "x_test_norm = mmscaler.transform(x_test)\n",
    "    \n",
    "grid_search.fit(x_train_norm, y_train)"
   ]
  },
  {
   "cell_type": "code",
   "execution_count": 124,
   "id": "3b454522",
   "metadata": {},
   "outputs": [
    {
     "name": "stdout",
     "output_type": "stream",
     "text": [
      "Modellleistung: SVR(C=1000, epsilon=0.5, gamma=1)\n",
      "MSE: 12448103.8700 \n",
      "R² = 74.21%.\n"
     ]
    }
   ],
   "source": [
    "def evaluate(model, test_features, test_labels):\n",
    "    predictions = model.predict(test_features)\n",
    "    mse = round(mean_squared_error(y_test,predictions),2)\n",
    "    re= round(model.score(x_test_norm, y_test),4)*100\n",
    "    print('Modellleistung:',model)\n",
    "    print('MSE: {:0.4f} '.format(mse))\n",
    "    print('R² = {:0.2f}%.'.format(re))\n",
    "\n",
    "best_grid = grid_search.best_estimator_\n",
    "grid_accuracy = evaluate(best_grid, x_test_norm, y_test)\n",
    "grid_accuracy "
   ]
  },
  {
   "cell_type": "markdown",
   "id": "6d6a2104",
   "metadata": {},
   "source": [
    "<h5>2. Region: Smir</h5>"
   ]
  },
  {
   "cell_type": "code",
   "execution_count": 125,
   "id": "04d57c2f",
   "metadata": {},
   "outputs": [
    {
     "name": "stdout",
     "output_type": "stream",
     "text": [
      "Fitting 5 folds for each of 320 candidates, totalling 1600 fits\n"
     ]
    },
    {
     "data": {
      "text/plain": [
       "GridSearchCV(cv=5, estimator=SVR(), n_jobs=-1,\n",
       "             param_grid={'C': [0.1, 1, 100, 1000],\n",
       "                         'epsilon': [0.1, 0.2, 0.5, 0.3],\n",
       "                         'gamma': [1, 0.1, 0.01, 0.001, 0.0001],\n",
       "                         'kernel': ['rbf', 'poly', 'sigmoid', 'linear']},\n",
       "             verbose=2)"
      ]
     },
     "execution_count": 125,
     "metadata": {},
     "output_type": "execute_result"
    }
   ],
   "source": [
    "#Support Vector Regressor\n",
    "param_grid = {'C':[0.1,1,100,1000],\n",
    "              'kernel':['rbf','poly','sigmoid','linear'],\n",
    "              'epsilon':[0.1,0.2,0.5,0.3],\n",
    "              'gamma': [1, 0.1, 0.01, 0.001, 0.0001]}\n",
    "svr = SVR()\n",
    "grid_search=GridSearchCV(estimator = svr, param_grid = param_grid, cv = 5, n_jobs = -1, verbose = 2)\n",
    "\n",
    "#Datensatz in Trainings-und Testdaten aufteilen\n",
    "X = df_power_hour.drop(['Humidity','Quads','Boussafou','Smir'], axis = 1)\n",
    "y = df_power_hour['Smir']\n",
    "x_train, x_test, y_train, y_test = train_test_split(X,y, test_size = 0.3, random_state = 42)\n",
    "    \n",
    "#Trainingsdaten normalisieren\n",
    "mmscaler = MinMaxScaler()\n",
    "x_train_norm = mmscaler.fit_transform(x_train)\n",
    "x_test_norm = mmscaler.transform(x_test)\n",
    "    \n",
    "grid_search.fit(x_train_norm, y_train)"
   ]
  },
  {
   "cell_type": "code",
   "execution_count": 126,
   "id": "8d9abf47",
   "metadata": {},
   "outputs": [
    {
     "name": "stdout",
     "output_type": "stream",
     "text": [
      "Modellleistung: SVR(C=1000, epsilon=0.5, gamma=1)\n",
      "MSE: 10338256.1600 \n",
      "R² = 75.69%.\n"
     ]
    }
   ],
   "source": [
    "best_grid = grid_search.best_estimator_\n",
    "grid_accuracy = evaluate(best_grid, x_test_norm, y_test)\n",
    "grid_accuracy"
   ]
  },
  {
   "cell_type": "markdown",
   "id": "2d6f9256",
   "metadata": {},
   "source": [
    "<h5>3. Region: Boussafou</h5>"
   ]
  },
  {
   "cell_type": "code",
   "execution_count": 127,
   "id": "ed5c3cfc",
   "metadata": {},
   "outputs": [
    {
     "name": "stdout",
     "output_type": "stream",
     "text": [
      "Fitting 5 folds for each of 320 candidates, totalling 1600 fits\n"
     ]
    },
    {
     "data": {
      "text/plain": [
       "GridSearchCV(cv=5, estimator=SVR(), n_jobs=-1,\n",
       "             param_grid={'C': [0.1, 1, 100, 1000],\n",
       "                         'epsilon': [0.1, 0.2, 0.5, 0.3],\n",
       "                         'gamma': [1, 0.1, 0.01, 0.001, 0.0001],\n",
       "                         'kernel': ['rbf', 'poly', 'sigmoid', 'linear']},\n",
       "             verbose=2)"
      ]
     },
     "execution_count": 127,
     "metadata": {},
     "output_type": "execute_result"
    }
   ],
   "source": [
    "#Support Vector Regressor\n",
    "param_grid = {'C':[0.1,1,100,1000],\n",
    "              'kernel':['rbf','poly','sigmoid','linear'],\n",
    "              'epsilon':[0.1,0.2,0.5,0.3],\n",
    "              'gamma': [1, 0.1, 0.01, 0.001, 0.0001]}\n",
    "svr = SVR()\n",
    "grid_search=GridSearchCV(estimator = svr, param_grid = param_grid, cv = 5, n_jobs = -1, verbose = 2)\n",
    "\n",
    "#Datensatz in Trainings-und Testdaten aufteilen\n",
    "X = df_power_hour.drop(['Humidity','Quads','Boussafou','Smir'], axis = 1)\n",
    "y = df_power_hour['Boussafou']\n",
    "x_train, x_test, y_train, y_test = train_test_split(X,y, test_size = 0.3, random_state = 42)\n",
    "    \n",
    "#Trainingsdaten normalisieren\n",
    "mmscaler = MinMaxScaler()\n",
    "x_train_norm = mmscaler.fit_transform(x_train)\n",
    "x_test_norm = mmscaler.transform(x_test)\n",
    "    \n",
    "grid_search.fit(x_train_norm, y_train)"
   ]
  },
  {
   "cell_type": "code",
   "execution_count": 149,
   "id": "b283a1b6",
   "metadata": {},
   "outputs": [
    {
     "name": "stdout",
     "output_type": "stream",
     "text": [
      "Modellleistung: SVR(C=1000, gamma=1)\n",
      "MSE: 7040840.6100 \n",
      "R² = 72.98%.\n"
     ]
    }
   ],
   "source": [
    "best_grid = grid_search.best_estimator_\n",
    "grid_accuracy = evaluate(best_grid, x_test_norm, y_test)\n",
    "grid_accuracy"
   ]
  },
  {
   "cell_type": "code",
   "execution_count": null,
   "id": "7d8f2d64",
   "metadata": {},
   "outputs": [],
   "source": []
  }
 ],
 "metadata": {
  "kernelspec": {
   "display_name": "Python 3",
   "language": "python",
   "name": "python3"
  },
  "language_info": {
   "codemirror_mode": {
    "name": "ipython",
    "version": 3
   },
   "file_extension": ".py",
   "mimetype": "text/x-python",
   "name": "python",
   "nbconvert_exporter": "python",
   "pygments_lexer": "ipython3",
   "version": "3.8.8"
  }
 },
 "nbformat": 4,
 "nbformat_minor": 5
}
